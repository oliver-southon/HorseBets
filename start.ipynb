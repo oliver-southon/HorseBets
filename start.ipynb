{
 "cells": [
  {
   "cell_type": "markdown",
   "metadata": {},
   "source": [
    "# **ALERT**\n",
    "\n",
    "You may skip \"0.1\" and \"1.1\" Since the clean data is already made. 🌝"
   ]
  },
  {
   "cell_type": "markdown",
   "metadata": {},
   "source": [
    "# 0. Import Modules and Setup"
   ]
  },
  {
   "cell_type": "code",
   "execution_count": 29,
   "metadata": {},
   "outputs": [],
   "source": [
    "import pandas as pd\n",
    "import numpy as np\n",
    "import seaborn as sns\n",
    "import tensorflow as tf\n",
    "import matplotlib.pyplot as plt\n",
    "\n",
    "from sklearn.preprocessing import StandardScaler\n",
    "from sklearn.model_selection import train_test_split\n",
    "from sklearn.metrics import classification_report\n",
    "from sklearn.metrics import accuracy_score\n",
    "\n",
    "from sklearn.linear_model import LogisticRegression\n",
    "from sklearn.ensemble import RandomForestClassifier\n",
    "from sklearn.svm import SVC\n",
    "from sklearn.ensemble import GradientBoostingClassifier\n",
    "from sklearn.naive_bayes import GaussianNB\n",
    "\n",
    "import warnings\n",
    "warnings.filterwarnings('ignore')"
   ]
  },
  {
   "cell_type": "markdown",
   "metadata": {},
   "source": [
    "## >0.1 Convert Large Data Files Into Feather File"
   ]
  },
  {
   "cell_type": "code",
   "execution_count": 3,
   "metadata": {},
   "outputs": [],
   "source": [
    "# # Load the three CSV files\n",
    "# df1 = pd.read_csv('data/horses.csv', low_memory=False)\n",
    "# df2 = pd.read_csv('data/horses1.csv', low_memory=False)\n",
    "# df3 = pd.read_csv('data/horses2.csv', low_memory=False)\n",
    "\n",
    "# # Concatenate the three DataFrames\n",
    "# df = pd.concat([df1, df2, df3])\n",
    "# df.reset_index(drop=True, inplace=True)\n",
    "\n",
    "# # Convert Row column to Str, avoids error\n",
    "# df['Row'] = df['Row'].astype(str)\n",
    "\n",
    "# # Save the concatenated DataFrame as a feather file\n",
    "# df.to_feather('data/horses.feather')"
   ]
  },
  {
   "cell_type": "markdown",
   "metadata": {},
   "source": [
    "# >1. Data PreProcessing"
   ]
  },
  {
   "cell_type": "markdown",
   "metadata": {},
   "source": [
    "Hassan Kamran. (2022). <i>Historic Australian Horse Racing Dataset</i> [Data set]. Kaggle. https://doi.org/10.34740/KAGGLE/DS/2306807"
   ]
  },
  {
   "cell_type": "code",
   "execution_count": 4,
   "metadata": {},
   "outputs": [],
   "source": [
    "# Load in data\n",
    "horse_data_raw = pd.read_feather('data/horses.feather')"
   ]
  },
  {
   "cell_type": "code",
   "execution_count": 5,
   "metadata": {},
   "outputs": [],
   "source": [
    "# View nulls\n",
    "# null_percetnages = horse_data_raw.isna().mean() * 100\n",
    "\n",
    "# null_percetnages.to_csv('null_percentages.csv')"
   ]
  },
  {
   "cell_type": "code",
   "execution_count": 6,
   "metadata": {},
   "outputs": [],
   "source": [
    "# Extract Relevant Features\n",
    "horse_data_extracted = horse_data_raw[['Winner', 'StartingOdds', 'RecentWinPercent', 'Class', 'laststart', 'Age', 'Colour', 'Sex', 'Sire']]"
   ]
  },
  {
   "cell_type": "code",
   "execution_count": 7,
   "metadata": {},
   "outputs": [
    {
     "data": {
      "text/html": [
       "<div>\n",
       "<style scoped>\n",
       "    .dataframe tbody tr th:only-of-type {\n",
       "        vertical-align: middle;\n",
       "    }\n",
       "\n",
       "    .dataframe tbody tr th {\n",
       "        vertical-align: top;\n",
       "    }\n",
       "\n",
       "    .dataframe thead th {\n",
       "        text-align: right;\n",
       "    }\n",
       "</style>\n",
       "<table border=\"1\" class=\"dataframe\">\n",
       "  <thead>\n",
       "    <tr style=\"text-align: right;\">\n",
       "      <th></th>\n",
       "      <th>Winner</th>\n",
       "      <th>StartingOdds</th>\n",
       "      <th>RecentWinPercent</th>\n",
       "      <th>Class</th>\n",
       "      <th>laststart</th>\n",
       "      <th>Age</th>\n",
       "      <th>Colour</th>\n",
       "      <th>Sex</th>\n",
       "      <th>Sire</th>\n",
       "    </tr>\n",
       "  </thead>\n",
       "  <tbody>\n",
       "    <tr>\n",
       "      <th>0</th>\n",
       "      <td>1.0</td>\n",
       "      <td>2.4</td>\n",
       "      <td>NaN</td>\n",
       "      <td>NaN</td>\n",
       "      <td>NaN</td>\n",
       "      <td>4</td>\n",
       "      <td>BAY</td>\n",
       "      <td>GELDING</td>\n",
       "      <td>CAMMIBEST USA</td>\n",
       "    </tr>\n",
       "    <tr>\n",
       "      <th>1</th>\n",
       "      <td>0.0</td>\n",
       "      <td>18.1</td>\n",
       "      <td>NaN</td>\n",
       "      <td>NaN</td>\n",
       "      <td>NaN</td>\n",
       "      <td>5</td>\n",
       "      <td>BROWN/BLACK</td>\n",
       "      <td>GELDING</td>\n",
       "      <td>ALLAMERICAN INGOT USA</td>\n",
       "    </tr>\n",
       "    <tr>\n",
       "      <th>2</th>\n",
       "      <td>0.0</td>\n",
       "      <td>6.0</td>\n",
       "      <td>NaN</td>\n",
       "      <td>NaN</td>\n",
       "      <td>NaN</td>\n",
       "      <td>6</td>\n",
       "      <td>BLACK</td>\n",
       "      <td>GELDING</td>\n",
       "      <td>WASHINGTON VC USA</td>\n",
       "    </tr>\n",
       "    <tr>\n",
       "      <th>3</th>\n",
       "      <td>0.0</td>\n",
       "      <td>7.4</td>\n",
       "      <td>NaN</td>\n",
       "      <td>NaN</td>\n",
       "      <td>NaN</td>\n",
       "      <td>5</td>\n",
       "      <td>BROWN/BLACK</td>\n",
       "      <td>GELDING</td>\n",
       "      <td>ELSU NZ</td>\n",
       "    </tr>\n",
       "    <tr>\n",
       "      <th>4</th>\n",
       "      <td>0.0</td>\n",
       "      <td>53.1</td>\n",
       "      <td>NaN</td>\n",
       "      <td>NaN</td>\n",
       "      <td>NaN</td>\n",
       "      <td>7</td>\n",
       "      <td>BAY</td>\n",
       "      <td>GELDING</td>\n",
       "      <td>REAL DESIRE USA</td>\n",
       "    </tr>\n",
       "  </tbody>\n",
       "</table>\n",
       "</div>"
      ],
      "text/plain": [
       "   Winner  StartingOdds  RecentWinPercent  Class  laststart  Age       Colour  \\\n",
       "0     1.0           2.4               NaN    NaN        NaN    4          BAY   \n",
       "1     0.0          18.1               NaN    NaN        NaN    5  BROWN/BLACK   \n",
       "2     0.0           6.0               NaN    NaN        NaN    6        BLACK   \n",
       "3     0.0           7.4               NaN    NaN        NaN    5  BROWN/BLACK   \n",
       "4     0.0          53.1               NaN    NaN        NaN    7          BAY   \n",
       "\n",
       "       Sex                    Sire  \n",
       "0  GELDING          CAMMIBEST USA   \n",
       "1  GELDING  ALLAMERICAN INGOT USA   \n",
       "2  GELDING      WASHINGTON VC USA   \n",
       "3  GELDING                ELSU NZ   \n",
       "4  GELDING        REAL DESIRE USA   "
      ]
     },
     "execution_count": 7,
     "metadata": {},
     "output_type": "execute_result"
    }
   ],
   "source": [
    "horse_data_extracted.head()"
   ]
  },
  {
   "cell_type": "code",
   "execution_count": 8,
   "metadata": {},
   "outputs": [
    {
     "data": {
      "image/png": "[encoded data removed]",
      "text/plain": [
       "<Figure size 864x432 with 1 Axes>"
      ]
     },
     "metadata": {},
     "output_type": "display_data"
    }
   ],
   "source": [
    "null_percentages = horse_data_extracted.isna().mean() * 100\n",
    "\n",
    "# Create a bar chart\n",
    "sns.set_style('whitegrid')\n",
    "plt.figure(figsize=(12,6))\n",
    "ax = sns.barplot(x=null_percentages.index, y=null_percentages.values, color='blue', orient='v')\n",
    "plt.title('Percentage of Null Values in Each Column')\n",
    "plt.xlabel('Column Name')\n",
    "plt.ylabel('Composotion of Null Values (%)')\n",
    "plt.ylim(0, 100)\n",
    "\n",
    "ax.xaxis.set_label_coords(0.5, -0.15)"
   ]
  },
  {
   "cell_type": "markdown",
   "metadata": {},
   "source": [
    "It seems \"RecentWinPercent', 'Class', and 'laststart' have ~ 50% missing nullvalues"
   ]
  },
  {
   "cell_type": "code",
   "execution_count": 9,
   "metadata": {},
   "outputs": [
    {
     "name": "stdout",
     "output_type": "stream",
     "text": [
      "Rows: 1220095\n"
     ]
    }
   ],
   "source": [
    "print(f\"Rows: {horse_data_extracted.shape[0]}\")"
   ]
  },
  {
   "cell_type": "markdown",
   "metadata": {},
   "source": [
    "Since there are plenty of rows to work with, we will remove all rows with null values"
   ]
  },
  {
   "cell_type": "code",
   "execution_count": 10,
   "metadata": {},
   "outputs": [
    {
     "name": "stdout",
     "output_type": "stream",
     "text": [
      "Row count after removing null value rows: 579580\n"
     ]
    }
   ],
   "source": [
    "horse_data_nonull = horse_data_extracted.dropna()\n",
    "\n",
    "print(f\"Row count after removing null value rows: {horse_data_nonull.shape[0]}\")"
   ]
  },
  {
   "cell_type": "code",
   "execution_count": 11,
   "metadata": {},
   "outputs": [
    {
     "data": {
      "text/plain": [
       "array([1., 0.])"
      ]
     },
     "execution_count": 11,
     "metadata": {},
     "output_type": "execute_result"
    }
   ],
   "source": [
    "horse_data_nonull[\"Winner\"].unique()"
   ]
  },
  {
   "cell_type": "code",
   "execution_count": 12,
   "metadata": {},
   "outputs": [],
   "source": [
    "# Convert 'Winner' column to integer using .loc\n",
    "horse_data_nonull.loc[:, 'Winner'] = horse_data_nonull['Winner'].astype(int)"
   ]
  },
  {
   "cell_type": "code",
   "execution_count": 13,
   "metadata": {},
   "outputs": [
    {
     "data": {
      "text/plain": [
       "array([1, 0])"
      ]
     },
     "execution_count": 13,
     "metadata": {},
     "output_type": "execute_result"
    }
   ],
   "source": [
    "horse_data_nonull[\"Winner\"].unique()"
   ]
  },
  {
   "cell_type": "code",
   "execution_count": 14,
   "metadata": {},
   "outputs": [],
   "source": [
    "# TODO: Analyse \"Age\", \"Color\", \"Sex\" and \"Sire\" as categorical features. For now, only use numerical features"
   ]
  },
  {
   "cell_type": "code",
   "execution_count": 15,
   "metadata": {},
   "outputs": [
    {
     "name": "stdout",
     "output_type": "stream",
     "text": [
      "Winner              1.000000\n",
      "StartingOdds       -0.223145\n",
      "RecentWinPercent    0.155096\n",
      "Class               0.165051\n",
      "laststart          -0.413778\n",
      "Age                -0.085736\n",
      "Name: Winner, dtype: float64\n"
     ]
    }
   ],
   "source": [
    "corr_matrix = horse_data_nonull.corr()\n",
    "print(corr_matrix[\"Winner\"])"
   ]
  },
  {
   "cell_type": "markdown",
   "metadata": {},
   "source": [
    "Age column can be dropped. Keep the rest"
   ]
  },
  {
   "cell_type": "code",
   "execution_count": 16,
   "metadata": {},
   "outputs": [],
   "source": [
    "selected_cols = [\"Winner\", \"StartingOdds\", \"RecentWinPercent\", \"Class\", \"laststart\"]\n",
    "horse_data_selected = horse_data_nonull[selected_cols]"
   ]
  },
  {
   "cell_type": "markdown",
   "metadata": {},
   "source": [
    "Save selected data to feather"
   ]
  },
  {
   "cell_type": "code",
   "execution_count": 17,
   "metadata": {},
   "outputs": [],
   "source": [
    "horse_data_selected.reset_index(drop=True, inplace=True)\n",
    "horse_data_selected.to_feather(\"cleaned_data.feather\")"
   ]
  },
  {
   "cell_type": "markdown",
   "metadata": {},
   "source": [
    "# >2. Exploratory Data Analysis"
   ]
  },
  {
   "cell_type": "code",
   "execution_count": 18,
   "metadata": {},
   "outputs": [],
   "source": [
    "df = pd.read_feather(\"cleaned_data.feather\")"
   ]
  },
  {
   "cell_type": "code",
   "execution_count": 19,
   "metadata": {},
   "outputs": [
    {
     "data": {
      "image/png": "[encoded data removed]",
      "text/plain": [
       "<Figure size 576x576 with 2 Axes>"
      ]
     },
     "metadata": {},
     "output_type": "display_data"
    }
   ],
   "source": [
    "# Get correlation Values\n",
    "corr_with_winner = df.corr()[\"Winner\"].abs().sort_values(ascending=False)\n",
    "\n",
    "#Load Heatmap\n",
    "sns.set(style=\"white\")\n",
    "plt.figure(figsize=(8, 8))\n",
    "sns.heatmap(corr_with_winner.to_frame(), cmap='PuOr', center=0, annot=True, fmt=\".2f\")\n",
    "plt.title(\"Correlation Heatmap of Features with Win Result\")\n",
    "plt.show()"
   ]
  },
  {
   "cell_type": "markdown",
   "metadata": {},
   "source": [
    "# >3. Model Building"
   ]
  },
  {
   "cell_type": "code",
   "execution_count": 20,
   "metadata": {},
   "outputs": [],
   "source": [
    "# Split the dataset into features and target\n",
    "X = df.drop(\"Winner\", axis=1)\n",
    "y = df['Winner']\n"
   ]
  },
  {
   "cell_type": "code",
   "execution_count": 21,
   "metadata": {},
   "outputs": [],
   "source": [
    "# Standardise Training Data\n",
    "scaler = StandardScaler()\n",
    "X_scaled = scaler.fit_transform(X)\n",
    "\n",
    "# Perform Split\n",
    "X_train, X_test, y_train, y_test = train_test_split(X, y, test_size=0.2, random_state=42)"
   ]
  },
  {
   "cell_type": "markdown",
   "metadata": {},
   "source": [
    "## >3.1 Logistic Regression (baseline)"
   ]
  },
  {
   "cell_type": "code",
   "execution_count": 22,
   "metadata": {},
   "outputs": [
    {
     "data": {
      "text/plain": [
       "''"
      ]
     },
     "execution_count": 22,
     "metadata": {},
     "output_type": "execute_result"
    }
   ],
   "source": [
    "# build the logistic regression model\n",
    "log_reg = LogisticRegression(max_iter=10000)\n",
    "log_reg.fit(X_train, y_train)\n",
    "\n",
    "# build the logistic regression model\n",
    "log_reg = LogisticRegression(max_iter=10000)\n",
    "log_reg.fit(X_train, y_train)\n",
    ";"
   ]
  },
  {
   "cell_type": "code",
   "execution_count": 23,
   "metadata": {},
   "outputs": [
    {
     "name": "stdout",
     "output_type": "stream",
     "text": [
      "              precision    recall  f1-score   support\n",
      "\n",
      "           0       0.93      0.98      0.96    102950\n",
      "           1       0.75      0.45      0.56     12966\n",
      "\n",
      "    accuracy                           0.92    115916\n",
      "   macro avg       0.84      0.72      0.76    115916\n",
      "weighted avg       0.91      0.92      0.91    115916\n",
      "\n"
     ]
    }
   ],
   "source": [
    "# evaluate the model\n",
    "y_pred = log_reg.predict(X_test)\n",
    "print(classification_report(y_test, y_pred))"
   ]
  },
  {
   "cell_type": "markdown",
   "metadata": {},
   "source": [
    "## >3.2 Random Forest Classifier"
   ]
  },
  {
   "cell_type": "code",
   "execution_count": 24,
   "metadata": {},
   "outputs": [
    {
     "name": "stdout",
     "output_type": "stream",
     "text": [
      "Random Forest Classifier Accuracy: 0.9561061458297387\n"
     ]
    }
   ],
   "source": [
    "# Define the model\n",
    "rfc = RandomForestClassifier()\n",
    "\n",
    "# Train the model\n",
    "rfc.fit(X_train, y_train)\n",
    "\n",
    "# Evaluate the model on the test set\n",
    "rfc_score = rfc.score(X_test, y_test)\n",
    "print(\"Random Forest Classifier Accuracy:\", rfc_score)"
   ]
  },
  {
   "cell_type": "markdown",
   "metadata": {},
   "source": [
    "## >3.3 Support Vector Machine"
   ]
  },
  {
   "cell_type": "code",
   "execution_count": 25,
   "metadata": {},
   "outputs": [],
   "source": [
    "# from sklearn.svm import SVC\n",
    "\n",
    "# # Define the model\n",
    "# svm = SVC()\n",
    "\n",
    "# # Train the model\n",
    "# svm.fit(X_train, y_train)\n",
    "\n",
    "# # Evaluate the model on the test set\n",
    "# svm_score = svm.score(X_test, y_test)\n",
    "# print(\"Support Vector Machine Accuracy:\", svm_score)"
   ]
  },
  {
   "cell_type": "markdown",
   "metadata": {},
   "source": [
    "## >3.4 Gradient Boost Classifier"
   ]
  },
  {
   "cell_type": "code",
   "execution_count": 26,
   "metadata": {},
   "outputs": [
    {
     "name": "stdout",
     "output_type": "stream",
     "text": [
      "Accuracy: 0.9575986058870216\n"
     ]
    }
   ],
   "source": [
    "# Build the Gradient Boosting Classifier model\n",
    "gb_classifier = GradientBoostingClassifier()\n",
    "\n",
    "# Train the model on the training set\n",
    "gb_classifier.fit(X_train, y_train)\n",
    "\n",
    "# Make predictions on the testing set\n",
    "y_pred = gb_classifier.predict(X_test)\n",
    "\n",
    "# Evaluate the accuracy of the model\n",
    "gb_classifier_score = gb_classifier.score(X_test, y_test)\n",
    "gb_accuracy = accuracy_score(y_test, y_pred)\n",
    "print(\"Accuracy:\", gb_accuracy)"
   ]
  },
  {
   "cell_type": "markdown",
   "metadata": {},
   "source": [
    "# >3.5 Naive Bayes Classifier"
   ]
  },
  {
   "cell_type": "code",
   "execution_count": 30,
   "metadata": {},
   "outputs": [
    {
     "name": "stdout",
     "output_type": "stream",
     "text": [
      "Accuracy: 0.8808102418993063\n"
     ]
    }
   ],
   "source": [
    "# create an instance of the model\n",
    "nb = GaussianNB()\n",
    "\n",
    "# fit the model to the data\n",
    "nb.fit(X_train, y_train)\n",
    "\n",
    "# predict on the test set\n",
    "y_pred = nb.predict(X_test)\n",
    "\n",
    "# evaluate the performance of the model\n",
    "nb_score = nb.score(X_test, y_test)\n",
    "print(\"Accuracy:\", nb_score)"
   ]
  },
  {
   "cell_type": "markdown",
   "metadata": {},
   "source": [
    "# >4 Evaluation of Models"
   ]
  },
  {
   "cell_type": "code",
   "execution_count": 41,
   "metadata": {},
   "outputs": [
    {
     "data": {
      "text/plain": [
       "[89.0, 96.0, 96.0, 88.0]"
      ]
     },
     "execution_count": 41,
     "metadata": {},
     "output_type": "execute_result"
    }
   ],
   "source": [
    "# Set up vars\n",
    "log_reg_score = log_reg.score(X_test, y_pred)\n",
    "\n",
    "scores = [log_reg_score, rfc_score, gb_classifier_score, nb_score]\n",
    "rounded_scores = []\n",
    "\n",
    "for score in scores:\n",
    "    rounded_score = round(score, 2) * 100\n",
    "    rounded_scores.append(rounded_score)\n",
    "\n",
    "\n",
    "\n",
    "labels = [\"Logistic Regression\", \"Random Forest\", \"Gradient Boost\", \"Naive Bayes\"]\n",
    "colors = [\"#66c2a5\", \"#fc8d62\", \"#8da0cb\", \"#e78ac3\"]\n",
    "\n",
    "rounded_scores"
   ]
  },
  {
   "cell_type": "code",
   "execution_count": 57,
   "metadata": {},
   "outputs": [
    {
     "data": {
      "image/png": "[encoded data removed]",
      "text/plain": [
       "<Figure size 864x576 with 1 Axes>"
      ]
     },
     "metadata": {},
     "output_type": "display_data"
    }
   ],
   "source": [
    "# Plot scores\n",
    "fig, ax = plt.subplots(figsize=(12, 8))\n",
    "bars = ax.bar(labels, rounded_scores, color=colors)\n",
    "ax.set_title(\"Comparison of Classifier Scores\", fontsize=20, fontweight='bold')\n",
    "ax.set_xlabel(\"Classifier Model\", fontsize=16, fontweight='bold')\n",
    "ax.set_ylabel(\"Accuracy Score (%)\", fontsize=16, fontweight='bold')\n",
    "ax.set_ylim([0, 100])\n",
    "ax.tick_params(axis='x', labelsize=14)\n",
    "ax.tick_params(axis='y', labelsize=14)\n",
    "ax.xaxis.labelpad = 20\n",
    "# Add labels\n",
    "for i, score in enumerate(rounded_scores):\n",
    "    ax.text(i, score-1, str(score) + \"%\", ha='center', va='bottom', fontsize=14)\n",
    "\n",
    "plt.show()"
   ]
  },
  {
   "cell_type": "code",
   "execution_count": null,
   "metadata": {},
   "outputs": [],
   "source": []
  }
 ],
 "metadata": {
  "kernelspec": {
   "display_name": "Python 3.10.4 64-bit",
   "language": "python",
   "name": "python3"
  },
  "language_info": {
   "codemirror_mode": {
    "name": "ipython",
    "version": 3
   },
   "file_extension": ".py",
   "mimetype": "text/x-python",
   "name": "python",
   "nbconvert_exporter": "python",
   "pygments_lexer": "ipython3",
   "version": "3.10.4"
  },
  "orig_nbformat": 4,
  "vscode": {
   "interpreter": {
    "hash": "afb734500600fd355917ca529030176ea0ca205570884b88f2f6f7d791fd3fbe"
   }
  }
 },
 "nbformat": 4,
 "nbformat_minor": 2
}
